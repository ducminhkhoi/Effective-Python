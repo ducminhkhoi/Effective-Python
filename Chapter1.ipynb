{
 "cells": [
  {
   "cell_type": "markdown",
   "metadata": {
    "deletable": true,
    "editable": true
   },
   "source": [
    "# Pythonic Thinking\n",
    "\n",
    "## Item 1: “Know Which Version of Python You’re Using"
   ]
  },
  {
   "cell_type": "code",
   "execution_count": null,
   "metadata": {
    "collapsed": true,
    "deletable": true,
    "editable": true
   },
   "outputs": [],
   "source": [
    "python --version"
   ]
  },
  {
   "cell_type": "markdown",
   "metadata": {
    "deletable": true,
    "editable": true
   },
   "source": [
    "- There are two major versions of Python still in active use: Python 2 and Python 3.\n",
    "- There are multiple popular runtimes for Python: CPython, Jython, IronPython, PyPy, etc.\n",
    "- Be sure that the command-line for running Python on your system is the version you expect it to be.\n",
    "- Prefer Python 3 for your next project because that is the primary focus of the Python community."
   ]
  },
  {
   "cell_type": "markdown",
   "metadata": {
    "deletable": true,
    "editable": true
   },
   "source": [
    "## Item 2: Follow the PEP 8 Style Guide\n",
    "\n",
    "https://www.python.org/dev/peps/pep-0008/\n",
    "- Always follow the PEP 8 style guide when writing Python code.\n",
    "- Sharing a common style with the larger Python community facilitates collaboration with others.\n",
    "- Using a consistent style makes it easier to modify your own code later.”"
   ]
  },
  {
   "cell_type": "markdown",
   "metadata": {
    "deletable": true,
    "editable": true
   },
   "source": [
    "## Item 3: Know the differences between bytes, str, and unicode\n",
    "\n",
    "- In Python 3, there are two types that represent sequences of characters: **bytes** and **str**. Instances of bytes contain raw 8-bit values. Instances of str contain Unicode characters."
   ]
  },
  {
   "cell_type": "code",
   "execution_count": 1,
   "metadata": {
    "collapsed": false,
    "deletable": true,
    "editable": true
   },
   "outputs": [
    {
     "name": "stdout",
     "output_type": "stream",
     "text": [
      "'foo'\n",
      "'foo'\n"
     ]
    }
   ],
   "source": [
    "def to_str(bytes_or_str):\n",
    "    if isinstance(bytes_or_str, bytes):\n",
    "        value = bytes_or_str.decode('utf-8')\n",
    "    else:\n",
    "        value = bytes_or_str\n",
    "    return value  # Instance of str\n",
    "\n",
    "print(repr(to_str(b'foo')))\n",
    "print(repr(to_str('foo')))"
   ]
  },
  {
   "cell_type": "code",
   "execution_count": 2,
   "metadata": {
    "collapsed": false,
    "deletable": true,
    "editable": true
   },
   "outputs": [
    {
     "name": "stdout",
     "output_type": "stream",
     "text": [
      "b'foo'\n",
      "b'foo'\n"
     ]
    }
   ],
   "source": [
    "def to_bytes(bytes_or_str):\n",
    "    if isinstance(bytes_or_str, str):\n",
    "        value = bytes_or_str.encode('utf-8')\n",
    "    else:\n",
    "        value = bytes_or_str\n",
    "    return value  # Instance of bytes\n",
    "\n",
    "print(repr(to_bytes(b'foo')))\n",
    "print(repr(to_bytes('foo')))"
   ]
  },
  {
   "cell_type": "markdown",
   "metadata": {
    "deletable": true,
    "editable": true
   },
   "source": [
    "- If you want to read or write binary data to/from a file, always open the file using a binary mode (like 'rb' or 'wb')."
   ]
  },
  {
   "cell_type": "code",
   "execution_count": 5,
   "metadata": {
    "collapsed": false,
    "deletable": true,
    "editable": true
   },
   "outputs": [],
   "source": [
    "import os\n",
    "with open('random.bin', 'wb') as f:\n",
    "    f.write(os.urandom(10))"
   ]
  },
  {
   "cell_type": "markdown",
   "metadata": {
    "deletable": true,
    "editable": true
   },
   "source": [
    "## Item 4: Write Helper Functions instead of Complex Expressions\n",
    "\n",
    "- Python’s syntax makes it all too easy to write single-line expressions that are overly complicated and difficult to read.\n",
    "- Move complex expressions into helper functions, especially if you need to use the same logic repeatedly.\n",
    "- The if/else expression provides a more readable alternative to using Boolean operators like or and and in expressions."
   ]
  },
  {
   "cell_type": "markdown",
   "metadata": {
    "collapsed": true,
    "deletable": true,
    "editable": true
   },
   "source": [
    "## Item 5: Know How to slice a sequence\n",
    "\n",
    "- The result of slicing a list is a whole new list. References to the objects from the original list are maintained. Modifying the result of slicing won’t affect the original list.\n",
    "\n",
    "- Avoid being verbose: Don’t supply 0 for the start index or the length of the sequence for the end index.\n",
    "\n",
    "- Slicing is forgiving of start or end indexes that are out of bounds, making it easy to express slices on the front or back boundaries of a sequence (like a[:20] or a[-20:]).\n",
    "\n",
    "- Assigning to a list slice will replace that range in the original sequence with what’s referenced even if their lengths are different."
   ]
  },
  {
   "cell_type": "code",
   "execution_count": null,
   "metadata": {
    "collapsed": false
   },
   "outputs": [],
   "source": [
    "a = ['a', 'b', 'c', 'd', 'e', 'f', 'g', 'h']\n",
    "a[:]      # ['a', 'b', 'c', 'd', 'e', 'f', 'g', 'h']\n",
    "a[:5]     # ['a', 'b', 'c', 'd', 'e']\n",
    "a[:-1]    # ['a', 'b', 'c', 'd', 'e', 'f', 'g']\n",
    "a[4:]     #                     ['e', 'f', 'g', 'h']\n",
    "a[-3:]    #                          ['f', 'g', 'h']\n",
    "a[2:5]    #           ['c', 'd', 'e']\n",
    "a[2:-1]   #           ['c', 'd', 'e', 'f', 'g']\n",
    "a[-3:-1]  #                          ['f', 'g']"
   ]
  },
  {
   "cell_type": "markdown",
   "metadata": {},
   "source": [
    "The values before and after the assigned slice will be preserved. The list will grow or shrink to accommodate the new values."
   ]
  },
  {
   "cell_type": "code",
   "execution_count": 2,
   "metadata": {
    "collapsed": false
   },
   "outputs": [
    {
     "name": "stdout",
     "output_type": "stream",
     "text": [
      "Before  ['a', 'b', 'c', 'd', 'e', 'f', 'g', 'h']\n",
      "After   ['a', 'b', 99, 22, 14, 'h']\n"
     ]
    }
   ],
   "source": [
    "print('Before ', a)\n",
    "a[2:7] = [99, 22, 14]\n",
    "print('After  ', a)"
   ]
  },
  {
   "cell_type": "markdown",
   "metadata": {},
   "source": [
    "If you leave out both the start and the end indexes when slicing, you’ll end up with a copy of the original list."
   ]
  },
  {
   "cell_type": "code",
   "execution_count": 4,
   "metadata": {
    "collapsed": false
   },
   "outputs": [],
   "source": [
    "b = a[:] \n",
    "assert b == a and b is not a"
   ]
  },
  {
   "cell_type": "markdown",
   "metadata": {},
   "source": [
    "If you assign a slice with no start or end indexes, you’ll replace its entire contents with a copy of what’s referenced (instead of allocating a new list).\n"
   ]
  },
  {
   "cell_type": "code",
   "execution_count": 5,
   "metadata": {
    "collapsed": false
   },
   "outputs": [
    {
     "name": "stdout",
     "output_type": "stream",
     "text": [
      "Before ['a', 'b', 99, 22, 14, 'h']\n",
      "After  [101, 102, 103]\n"
     ]
    }
   ],
   "source": [
    "b = a\n",
    "print('Before', a)\n",
    "a[:] = [101, 102, 103]\n",
    "assert a is b           # Still the same list object\n",
    "print('After ', a)      # Now has different contents"
   ]
  },
  {
   "cell_type": "markdown",
   "metadata": {},
   "source": [
    "## Item 6: Avoid Using start, end, and stride in a Single Slice\n",
    "- Specifying start, end, and stride in a slice can be extremely confusing.\n",
    "\n",
    "- Prefer using positive stride values in slices without start or end indexes. Avoid negative stride values if possible.\n",
    "\n",
    "- Avoid using start, end, and stride together in a single slice. If you need all three parameters, consider doing **two assignments** (one to slice, another to stride) or using islice from the itertools built-in module."
   ]
  },
  {
   "cell_type": "code",
   "execution_count": 6,
   "metadata": {
    "collapsed": false
   },
   "outputs": [
    {
     "name": "stdout",
     "output_type": "stream",
     "text": [
      "['a', 'b', 'c', 'd', 'e', 'f', 'g', 'h']\n",
      "['a', 'c', 'e', 'g']\n",
      "['c', 'e']\n"
     ]
    }
   ],
   "source": [
    "a = ['a', 'b', 'c', 'd', 'e', 'f', 'g', 'h']\n",
    "a[::2]   # ['a', 'c', 'e', 'g']\n",
    "a[::-2]  # ['h', 'f', 'd', 'b']\n",
    "b = a[::2]   # ['a', 'c', 'e', 'g']\n",
    "c = b[1:-1]  # ['c', 'e']\n",
    "print(a)\n",
    "print(b)\n",
    "print(c)"
   ]
  },
  {
   "cell_type": "markdown",
   "metadata": {},
   "source": [
    "## Item 7: Use List Comprehensions Instead of map and filter\n",
    "- List comprehensions are clearer than the map and filter built-in functions because they don’t require extra lambda expressions.\n",
    "\n",
    "- List comprehensions allow you to easily skip items from the input list, a behavior map doesn’t support without help from filter.\n",
    "\n",
    "- Dictionaries and sets also support comprehension expressions."
   ]
  },
  {
   "cell_type": "code",
   "execution_count": 7,
   "metadata": {
    "collapsed": false
   },
   "outputs": [
    {
     "name": "stdout",
     "output_type": "stream",
     "text": [
      "[1, 4, 9, 16, 25, 36, 49, 64, 81, 100]\n"
     ]
    }
   ],
   "source": [
    "a = [1, 2, 3, 4, 5, 6, 7, 8, 9, 10] \n",
    "squares = [x**2 for x in a] \n",
    "print(squares)"
   ]
  },
  {
   "cell_type": "code",
   "execution_count": 9,
   "metadata": {
    "collapsed": false
   },
   "outputs": [
    {
     "name": "stdout",
     "output_type": "stream",
     "text": [
      "[4, 16, 36, 64, 100]\n"
     ]
    }
   ],
   "source": [
    "even_squares = [x**2 for x in a if x % 2 == 0] \n",
    "print(even_squares)"
   ]
  },
  {
   "cell_type": "code",
   "execution_count": 10,
   "metadata": {
    "collapsed": false
   },
   "outputs": [
    {
     "name": "stdout",
     "output_type": "stream",
     "text": [
      "{1: 'ghost', 2: 'habanero', 3: 'cayenne'}\n",
      "{8, 5, 7}\n"
     ]
    }
   ],
   "source": [
    "chile_ranks = {'ghost': 1, 'habanero': 2, 'cayenne': 3}\n",
    "rank_dict = {rank: name for name, rank in chile_ranks.items()}\n",
    "chile_len_set = {len(name) for name in rank_dict.values()}\n",
    "print(rank_dict)\n",
    "print(chile_len_set)"
   ]
  },
  {
   "cell_type": "markdown",
   "metadata": {},
   "source": [
    "## Item 8: Avoid More than two Expressions in List Comprehensions\n",
    "- List comprehensions support multiple levels of loops and multiple conditions per loop level.\n",
    "\n",
    "- List comprehensions with more than two expressions are very difficult to read and should be avoided."
   ]
  },
  {
   "cell_type": "code",
   "execution_count": 11,
   "metadata": {
    "collapsed": false
   },
   "outputs": [
    {
     "name": "stdout",
     "output_type": "stream",
     "text": [
      "[1, 2, 3, 4, 5, 6, 7, 8, 9]\n"
     ]
    }
   ],
   "source": [
    "matrix = [[1, 2, 3], [4, 5, 6], [7, 8, 9]]\n",
    "flat = [x for row in matrix for x in row]\n",
    "print(flat)"
   ]
  },
  {
   "cell_type": "code",
   "execution_count": 12,
   "metadata": {
    "collapsed": false
   },
   "outputs": [
    {
     "name": "stdout",
     "output_type": "stream",
     "text": [
      "[6, 8, 10]\n",
      "[6, 8, 10]\n"
     ]
    }
   ],
   "source": [
    "a = [1, 2, 3, 4, 5, 6, 7, 8, 9, 10]\n",
    "b = [x for x in a if x > 4 if x % 2 == 0]\n",
    "c = [x for x in a if x > 4 and x % 2 == 0]\n",
    "print(b)\n",
    "print(c)\n",
    "assert b and c\n",
    "assert b == c"
   ]
  },
  {
   "cell_type": "markdown",
   "metadata": {},
   "source": [
    "## Item 9: Consider Generator Expressions for Large Comprehensions\n",
    "- List comprehensions can cause problems for large inputs by using too much memory.\n",
    "\n",
    "- Generator expressions avoid memory issues by producing outputs one at a time as an iterator.\n",
    "\n",
    "- Generator expressions can be composed by passing the iterator from one generator expression into the for subexpression of another.\n",
    "\n",
    "- Generator expressions execute very quickly when chained together."
   ]
  },
  {
   "cell_type": "code",
   "execution_count": null,
   "metadata": {
    "collapsed": true
   },
   "outputs": [],
   "source": [
    "it = (len(x) for x in open('my_file.txt'))\n",
    "print(it)\n",
    "\n",
    "print(next(it))\n",
    "print(next(it))\n",
    "\n",
    "roots = ((x, x**0.5) for x in it)\n",
    "\n",
    "print(next(roots))"
   ]
  },
  {
   "cell_type": "markdown",
   "metadata": {},
   "source": [
    "## Item 10: Prefer enumerate over range\n",
    "\n",
    "- enumerate provides concise syntax for looping over an iterator and getting the index of each item from the iterator as you go.\n",
    "\n",
    "- Prefer enumerate instead of looping over a range and indexing into a sequence.\n",
    "\n",
    "- You can supply a second parameter to enumerate to specify the number from which to begin counting (zero is the default)."
   ]
  },
  {
   "cell_type": "code",
   "execution_count": 13,
   "metadata": {
    "collapsed": false
   },
   "outputs": [
    {
     "name": "stdout",
     "output_type": "stream",
     "text": [
      "1: vanilla\n",
      "2: chocolate\n",
      "3: pecan\n",
      "4: strawberry\n"
     ]
    }
   ],
   "source": [
    "flavor_list = ['vanilla', 'chocolate', 'pecan', 'strawberry']\n",
    "\n",
    "for i, flavor in enumerate(flavor_list, 1):\n",
    "    print('%d: %s' % (i, flavor))"
   ]
  },
  {
   "cell_type": "markdown",
   "metadata": {},
   "source": [
    "## Item 11: Use zip to Process Iterators in Parallel\n",
    "\n",
    "- The zip built-in function can be used to iterate over multiple iterators in parallel.\n",
    "\n",
    "- In Python 3, zip is a lazy generator that produces tuples. In Python 2, zip returns the full result as a list of tuples.\n",
    "\n",
    "- zip truncates its output silently if you supply it with iterators of different lengths. The zip_longest function from the itertools built-in module lets you iterate over multiple iterators in parallel regardless of their lengths (see Item 46: “Use Built-in Algorithms and Data Structures”)."
   ]
  },
  {
   "cell_type": "markdown",
   "metadata": {},
   "source": [
    "## Item 12: Avoid else blocks after for and while loops\n",
    "- Python has special syntax that allows else blocks to immediately follow for and while loop interior blocks.\n",
    "\n",
    "- The else block after a loop only runs if the loop body did not encounter a break statement. Avoid using else blocks after loops because their behavior isn’t intuitive and can be confusing."
   ]
  },
  {
   "cell_type": "markdown",
   "metadata": {},
   "source": [
    "## Item 13: Take Advantage of Each Block in try/except/else/finally\n",
    "\n",
    "- The try/finally compound statement lets you run cleanup code regardless of whether exceptions were raised in the try block.\n",
    "\n",
    "- The else block helps you minimize the amount of code in try blocks and visually distinguish the success case from the try/except blocks.\n",
    "\n",
    "- An else block can be used to perform additional actions after a successful try block but before common cleanup in a finally block."
   ]
  },
  {
   "cell_type": "code",
   "execution_count": 14,
   "metadata": {
    "collapsed": true
   },
   "outputs": [],
   "source": [
    "def divide_json(path):\n",
    "    handle = open(path, 'r+')   # May raise IOError\n",
    "    try:\n",
    "        data = handle.read()    # May raise UnicodeDecodeError\n",
    "        op = json.loads(data)   # May raise ValueError\n",
    "        value = (\n",
    "            op['numerator'] /\n",
    "            op['denominator'])  # May raise ZeroDivisionError\n",
    "    except ZeroDivisionError as e:\n",
    "        return UNDEFINED\n",
    "    else:\n",
    "        op['result'] = value\n",
    "        result = json.dumps(op)\n",
    "        handle.seek(0)\n",
    "        handle.write(result)    # May raise IOError\n",
    "        return value\n",
    "    finally:\n",
    "        handle.close()          # Always runs\n"
   ]
  }
 ],
 "metadata": {
  "anaconda-cloud": {},
  "kernelspec": {
   "display_name": "Python 3",
   "language": "python",
   "name": "python3"
  },
  "language_info": {
   "codemirror_mode": {
    "name": "ipython",
    "version": 3
   },
   "file_extension": ".py",
   "mimetype": "text/x-python",
   "name": "python",
   "nbconvert_exporter": "python",
   "pygments_lexer": "ipython3",
   "version": "3.6.0"
  }
 },
 "nbformat": 4,
 "nbformat_minor": 0
}
