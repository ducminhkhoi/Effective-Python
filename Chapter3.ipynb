{
 "cells": [
  {
   "cell_type": "markdown",
   "metadata": {},
   "source": [
    "# Classes\n",
    "## Item 22: Prefer Helper Classes over Bookkeeping with Dictionaries and Tuples\n",
    "\n",
    "- Avoid making dictionaries with values that are other dictionaries or long tuples.\n",
    "\n",
    "- Use namedtuple for lightweight, immutable data containers before you need the flexibility of a full class.\n",
    "\n",
    "- Move your bookkeeping code to use multiple helper classes when your internal state dictionaries get complicated."
   ]
  },
  {
   "cell_type": "code",
   "execution_count": 1,
   "metadata": {
    "collapsed": false
   },
   "outputs": [
    {
     "name": "stdout",
     "output_type": "stream",
     "text": [
      "81.5\n"
     ]
    }
   ],
   "source": [
    "\n",
    "import collections\n",
    "Grade = collections.namedtuple('Grade', ('score', 'weight')) # a record of data\n",
    "\n",
    "\n",
    "# Example 12\n",
    "class Subject(object):\n",
    "    def __init__(self):\n",
    "        self._grades = []\n",
    "\n",
    "    def report_grade(self, score, weight):\n",
    "        self._grades.append(Grade(score, weight))\n",
    "\n",
    "    def average_grade(self):\n",
    "        total, total_weight = 0, 0\n",
    "        for grade in self._grades:\n",
    "            total += grade.score * grade.weight\n",
    "            total_weight += grade.weight\n",
    "        return total / total_weight\n",
    "\n",
    "\n",
    "# Example 13\n",
    "class Student(object):\n",
    "    def __init__(self):\n",
    "        self._subjects = {}\n",
    "\n",
    "    def subject(self, name):\n",
    "        if name not in self._subjects:\n",
    "            self._subjects[name] = Subject()\n",
    "        return self._subjects[name]\n",
    "\n",
    "    def average_grade(self):\n",
    "        total, count = 0, 0\n",
    "        for subject in self._subjects.values():\n",
    "            total += subject.average_grade()\n",
    "            count += 1\n",
    "        return total / count\n",
    "\n",
    "\n",
    "# Example 14\n",
    "class Gradebook(object):\n",
    "    def __init__(self):\n",
    "        self._students = {}\n",
    "\n",
    "    def student(self, name):\n",
    "        if name not in self._students:\n",
    "            self._students[name] = Student()\n",
    "        return self._students[name]\n",
    "\n",
    "\n",
    "# Example 15\n",
    "book = Gradebook()\n",
    "albert = book.student('Albert Einstein')\n",
    "math = albert.subject('Math')\n",
    "math.report_grade(80, 0.10)\n",
    "math.report_grade(80, 0.10)\n",
    "math.report_grade(70, 0.80)\n",
    "gym = albert.subject('Gym')\n",
    "gym.report_grade(100, 0.40)\n",
    "gym.report_grade(85, 0.60)\n",
    "print(albert.average_grade())"
   ]
  },
  {
   "cell_type": "markdown",
   "metadata": {},
   "source": [
    "## Item 23: Accept Functions for Simple Interfaces Instead of Classes\n",
    "\n",
    "- Instead of defining and instantiating classes, functions are often all you need for simple interfaces between components in Python.\n",
    "\n",
    "- References to functions and methods in Python are first class, meaning they can be used in expressions like any other type.\n",
    "\n",
    "- The __call__ special method enables instances of a class to be called like plain Python functions.\n",
    "\n",
    "- When you need a function to maintain state, consider defining a class that provides the __call__ method instead of defining a stateful closure (see Item 15: “Know How Closures Interact with Variable Scope”)."
   ]
  },
  {
   "cell_type": "code",
   "execution_count": 3,
   "metadata": {
    "collapsed": false
   },
   "outputs": [
    {
     "name": "stdout",
     "output_type": "stream",
     "text": [
      "Before: {'green': 12, 'blue': 3}\n",
      "Key added\n",
      "Key added\n",
      "After:  {'green': 12, 'blue': 20, 'red': 5, 'orange': 9}\n"
     ]
    }
   ],
   "source": [
    "from collections import defaultdict\n",
    "\n",
    "def log_missing():\n",
    "    print('Key added')\n",
    "    return 0\n",
    "\n",
    "current = {'green': 12, 'blue': 3}\n",
    "increments = [\n",
    "    ('red', 5),\n",
    "    ('blue', 17),\n",
    "    ('orange', 9),\n",
    "]\n",
    "result = defaultdict(log_missing, current)\n",
    "print('Before:', dict(result))\n",
    "for key, amount in increments:\n",
    "    result[key] += amount\n",
    "print('After: ', dict(result))"
   ]
  },
  {
   "cell_type": "code",
   "execution_count": 7,
   "metadata": {
    "collapsed": false
   },
   "outputs": [
    {
     "data": {
      "text/plain": [
       "1"
      ]
     },
     "execution_count": 7,
     "metadata": {},
     "output_type": "execute_result"
    }
   ],
   "source": [
    "class BetterCountMissing(object):\n",
    "    def __init__(self):\n",
    "        self.added = 0\n",
    "\n",
    "    def __call__(self):\n",
    "        self.added += 1\n",
    "        return self.added\n",
    "\n",
    "counter = BetterCountMissing()\n",
    "counter()"
   ]
  },
  {
   "cell_type": "code",
   "execution_count": 8,
   "metadata": {
    "collapsed": false
   },
   "outputs": [
    {
     "data": {
      "text/plain": [
       "2"
      ]
     },
     "execution_count": 8,
     "metadata": {},
     "output_type": "execute_result"
    }
   ],
   "source": [
    "counter()"
   ]
  },
  {
   "cell_type": "markdown",
   "metadata": {},
   "source": [
    "## Item 24: Use @classmethod Polymorphism to Construct Object Generically\n",
    "- Python only supports a single constructor per class, the __init__ method. \n",
    "- Use @classmethod to define alternative constructors for your classes.\n",
    "- Use class method polymorphism to provide generic ways to build and connect concrete subclasses."
   ]
  },
  {
   "cell_type": "code",
   "execution_count": 20,
   "metadata": {
    "collapsed": false
   },
   "outputs": [],
   "source": [
    "from random import randint\n",
    "\n",
    "class Cheese(object):\n",
    "    def __init__(self, num_holes=0):\n",
    "        \"defaults to a solid cheese\"\n",
    "        self.number_of_holes = num_holes\n",
    "        \n",
    "    def __str__(self):\n",
    "        return str(self.number_of_holes)\n",
    "\n",
    "    @classmethod\n",
    "    def random(cls): # act as multiple constructors\n",
    "        return cls(randint(0, 100))\n",
    "\n",
    "    @classmethod \n",
    "    def slightly_holey(cls): # act as multiple constructors\n",
    "        return cls(randint(0,33))\n",
    "\n",
    "    @classmethod\n",
    "    def very_holey(cls): # act as multiple constructors\n",
    "        return cls(randint(66, 100))"
   ]
  },
  {
   "cell_type": "code",
   "execution_count": 22,
   "metadata": {
    "collapsed": false
   },
   "outputs": [
    {
     "name": "stdout",
     "output_type": "stream",
     "text": [
      "10\n"
     ]
    }
   ],
   "source": [
    "gouda = Cheese(10)\n",
    "print(gouda)"
   ]
  },
  {
   "cell_type": "code",
   "execution_count": 23,
   "metadata": {
    "collapsed": false
   },
   "outputs": [
    {
     "name": "stdout",
     "output_type": "stream",
     "text": [
      "56\n"
     ]
    }
   ],
   "source": [
    "emmentaler = Cheese.random()\n",
    "print(emmentaler)"
   ]
  },
  {
   "cell_type": "code",
   "execution_count": 25,
   "metadata": {
    "collapsed": false
   },
   "outputs": [
    {
     "name": "stdout",
     "output_type": "stream",
     "text": [
      "1\n"
     ]
    }
   ],
   "source": [
    "leerdammer = Cheese.slightly_holey()\n",
    "print(leerdammer)"
   ]
  },
  {
   "cell_type": "code",
   "execution_count": 26,
   "metadata": {
    "collapsed": false
   },
   "outputs": [
    {
     "name": "stdout",
     "output_type": "stream",
     "text": [
      "94\n"
     ]
    }
   ],
   "source": [
    "test_very_holey = Cheese.very_holey()\n",
    "print(test_very_holey)"
   ]
  },
  {
   "cell_type": "markdown",
   "metadata": {},
   "source": [
    "## Item 25: Initialize Parent Classes with super\n",
    "\n",
    "- Python’s standard method resolution order (MRO) solves the problems of superclass initialization order and diamond inheritance.\n",
    "\n",
    "- Always use the super built-in function to initialize parent classes."
   ]
  },
  {
   "cell_type": "code",
   "execution_count": 27,
   "metadata": {
    "collapsed": false
   },
   "outputs": [
    {
     "name": "stdout",
     "output_type": "stream",
     "text": [
      "20\n"
     ]
    }
   ],
   "source": [
    "class MyBaseClass(object):\n",
    "    def __init__(self, value):\n",
    "        self.value = value\n",
    "        \n",
    "class Implicit(MyBaseClass):\n",
    "    def __init__(self, value):\n",
    "        super().__init__(value * 2)\n",
    "        \n",
    "print(Implicit(10).value)"
   ]
  },
  {
   "cell_type": "markdown",
   "metadata": {},
   "source": [
    "## Item 26: Use Multiple Inheritance Only for Mix-in Utility Classes\n",
    "- Avoid using multiple inheritance if mix-in classes can achieve the same outcome."
   ]
  },
  {
   "cell_type": "markdown",
   "metadata": {},
   "source": [
    "## Item 27: Prefer Public Attributes Over Private Ones\n",
    "\n",
    "- Private attributes aren’t rigorously enforced by the Python compiler.\n",
    "\n",
    "- Plan from the beginning to allow subclasses to do more with your internal APIs and attributes instead of locking them out by default.\n",
    "\n",
    "- Use documentation of protected fields to guide subclasses instead of trying to force access control with private attributes.\n",
    "\n",
    "- Only consider using private attributes to avoid naming conflicts with subclasses that are out of your control."
   ]
  },
  {
   "cell_type": "code",
   "execution_count": 55,
   "metadata": {
    "collapsed": false
   },
   "outputs": [
    {
     "data": {
      "text/plain": [
       "5"
      ]
     },
     "execution_count": 55,
     "metadata": {},
     "output_type": "execute_result"
    }
   ],
   "source": [
    "class MyObject(object):\n",
    "    def __init__(self):\n",
    "        self.public_field = 5\n",
    "        self._protected_field = 10\n",
    "        self.__private_field = 20\n",
    "\n",
    "    def get_private_field(self):\n",
    "        return self.__private_field\n",
    "    \n",
    "    def _procted_method(self):\n",
    "        print(\"call procted method\")\n",
    "    \n",
    "    def __private_method(self):\n",
    "        print(\"Call private method\")\n",
    "\n",
    "foo = MyObject()\n",
    "foo.public_field"
   ]
  },
  {
   "cell_type": "code",
   "execution_count": 48,
   "metadata": {
    "collapsed": false
   },
   "outputs": [
    {
     "data": {
      "text/plain": [
       "20"
      ]
     },
     "execution_count": 48,
     "metadata": {},
     "output_type": "execute_result"
    }
   ],
   "source": [
    "foo.get_private_field()"
   ]
  },
  {
   "cell_type": "code",
   "execution_count": 52,
   "metadata": {
    "collapsed": false
   },
   "outputs": [
    {
     "data": {
      "text/plain": [
       "10"
      ]
     },
     "execution_count": 52,
     "metadata": {},
     "output_type": "execute_result"
    }
   ],
   "source": [
    "foo._protected_field"
   ]
  },
  {
   "cell_type": "code",
   "execution_count": 50,
   "metadata": {
    "collapsed": false
   },
   "outputs": [
    {
     "ename": "AttributeError",
     "evalue": "'MyObject' object has no attribute '__private_field'",
     "output_type": "error",
     "traceback": [
      "\u001b[0;31m---------------------------------------------------------------------------\u001b[0m",
      "\u001b[0;31mAttributeError\u001b[0m                            Traceback (most recent call last)",
      "\u001b[0;32m<ipython-input-50-ba10c9ed769c>\u001b[0m in \u001b[0;36m<module>\u001b[0;34m()\u001b[0m\n\u001b[0;32m----> 1\u001b[0;31m \u001b[0mfoo\u001b[0m\u001b[0;34m.\u001b[0m\u001b[0m__private_field\u001b[0m\u001b[0;34m\u001b[0m\u001b[0m\n\u001b[0m",
      "\u001b[0;31mAttributeError\u001b[0m: 'MyObject' object has no attribute '__private_field'"
     ]
    }
   ],
   "source": [
    "foo.__private_field"
   ]
  },
  {
   "cell_type": "code",
   "execution_count": 54,
   "metadata": {
    "collapsed": false
   },
   "outputs": [
    {
     "name": "stdout",
     "output_type": "stream",
     "text": [
      "call procted method\n"
     ]
    }
   ],
   "source": [
    "foo._procted_method()"
   ]
  },
  {
   "cell_type": "code",
   "execution_count": 56,
   "metadata": {
    "collapsed": false
   },
   "outputs": [
    {
     "ename": "AttributeError",
     "evalue": "'MyObject' object has no attribute '__private_method'",
     "output_type": "error",
     "traceback": [
      "\u001b[0;31m---------------------------------------------------------------------------\u001b[0m",
      "\u001b[0;31mAttributeError\u001b[0m                            Traceback (most recent call last)",
      "\u001b[0;32m<ipython-input-56-0f496c8e364c>\u001b[0m in \u001b[0;36m<module>\u001b[0;34m()\u001b[0m\n\u001b[0;32m----> 1\u001b[0;31m \u001b[0mfoo\u001b[0m\u001b[0;34m.\u001b[0m\u001b[0m__private_method\u001b[0m\u001b[0;34m(\u001b[0m\u001b[0;34m)\u001b[0m\u001b[0;34m\u001b[0m\u001b[0m\n\u001b[0m",
      "\u001b[0;31mAttributeError\u001b[0m: 'MyObject' object has no attribute '__private_method'"
     ]
    }
   ],
   "source": [
    "foo.__private_method()"
   ]
  },
  {
   "cell_type": "code",
   "execution_count": 59,
   "metadata": {
    "collapsed": false
   },
   "outputs": [
    {
     "data": {
      "text/plain": [
       "10"
      ]
     },
     "execution_count": 59,
     "metadata": {},
     "output_type": "execute_result"
    }
   ],
   "source": [
    "foo._MyObject__private_field = 10\n",
    "foo.get_private_field()"
   ]
  },
  {
   "cell_type": "code",
   "execution_count": 60,
   "metadata": {
    "collapsed": false
   },
   "outputs": [
    {
     "name": "stdout",
     "output_type": "stream",
     "text": [
      "{'public_field': 5, '_protected_field': 10, '_MyObject__private_field': 10}\n"
     ]
    }
   ],
   "source": [
    "print(foo.__dict__)"
   ]
  },
  {
   "cell_type": "markdown",
   "metadata": {},
   "source": [
    "## Item 28: Inherit from collections.abc for Custom Container Types\n",
    "- Inherit directly from Python’s container types (like list or dict) for simple use cases.\n",
    "\n",
    "- Beware of the large number of methods required to implement custom container types correctly.\n",
    "\n",
    "- Have your custom container types inherit from the interfaces defined in *collections.abc* to ensure that your classes match required interfaces and behaviors."
   ]
  },
  {
   "cell_type": "code",
   "execution_count": 63,
   "metadata": {
    "collapsed": false
   },
   "outputs": [
    {
     "name": "stdout",
     "output_type": "stream",
     "text": [
      "['d', 'e', 'f']\n"
     ]
    }
   ],
   "source": [
    "class ListBasedSet(collections.abc.Set):\n",
    "    ''' Alternate set implementation favoring space over speed\n",
    "        and not requiring the set elements to be hashable. '''\n",
    "    def __init__(self, iterable):\n",
    "        self.elements = lst = []\n",
    "        for value in iterable:\n",
    "            if value not in lst:\n",
    "                lst.append(value)\n",
    "\n",
    "    def __str__(self):\n",
    "        return str(self.elements)\n",
    "    \n",
    "    def __iter__(self):\n",
    "        return iter(self.elements)\n",
    "\n",
    "    def __contains__(self, value):\n",
    "        return value in self.elements\n",
    "\n",
    "    def __len__(self):\n",
    "        return len(self.elements)\n",
    "\n",
    "s1 = ListBasedSet('abcdef')\n",
    "s2 = ListBasedSet('defghi')\n",
    "overlap = s1 & s2            # The __and__() method is supported automatically\n",
    "print(overlap)"
   ]
  },
  {
   "cell_type": "code",
   "execution_count": null,
   "metadata": {
    "collapsed": true
   },
   "outputs": [],
   "source": []
  }
 ],
 "metadata": {
  "kernelspec": {
   "display_name": "Python 3",
   "language": "python",
   "name": "python3"
  },
  "language_info": {
   "codemirror_mode": {
    "name": "ipython",
    "version": 3
   },
   "file_extension": ".py",
   "mimetype": "text/x-python",
   "name": "python",
   "nbconvert_exporter": "python",
   "pygments_lexer": "ipython3",
   "version": "3.6.0"
  }
 },
 "nbformat": 4,
 "nbformat_minor": 2
}
